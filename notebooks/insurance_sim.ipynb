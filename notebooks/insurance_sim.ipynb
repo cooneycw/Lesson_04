{
 "cells": [
  {
   "metadata": {
    "ExecuteTime": {
     "end_time": "2025-05-03T22:09:58.622170Z",
     "start_time": "2025-05-03T22:09:58.618937Z"
    }
   },
   "cell_type": "code",
   "source": [
    "import os\n",
    "import sys\n",
    "from pathlib import Path\n",
    "\n",
    "print(\"🔍 Diagnosing environment...\")\n",
    "print(f\"Current working directory: {os.getcwd()}\")\n",
    "print(f\"Python executable: {sys.executable}\")\n",
    "print(\"\\nDirectory contents:\")"
   ],
   "id": "afac095833e47ed0",
   "outputs": [
    {
     "name": "stdout",
     "output_type": "stream",
     "text": [
      "🔍 Diagnosing environment...\n",
      "Current working directory: /home/cooneycw/jupyter-workspace\n",
      "Python executable: /home/cooneycw/anaconda3/bin/python\n",
      "\n",
      "Directory contents:\n"
     ]
    }
   ],
   "execution_count": 15
  },
  {
   "metadata": {
    "ExecuteTime": {
     "end_time": "2025-05-03T22:18:12.604923Z",
     "start_time": "2025-05-03T22:18:11.022649Z"
    }
   },
   "cell_type": "code",
   "source": [
    "import importlib.machinery\n",
    "import os\n",
    "\n",
    "# Get the current working directory\n",
    "cwd = os.getcwd()\n",
    "print(cwd)\n",
    "# Define the module name and full path\n",
    "\n",
    "module_name = \"bankruptcy_simulation\"\n",
    "function_name = \"hello\"\n",
    "file_path = os.path.join(cwd, \"Lesson_04\",\"notebooks\",\"utils\", f\"{module_name}.py\")\n",
    "\n",
    "print(file_path)\n",
    "# Create a loader\n",
    "loader = importlib.machinery.SourceFileLoader(module_name, file_path)\n",
    "\n",
    "# Load the module\n",
    "module = loader.load_module()\n",
    "hello = getattr(module, function_name)\n"
   ],
   "id": "3aa880f0f16e11d8",
   "outputs": [
    {
     "name": "stdout",
     "output_type": "stream",
     "text": [
      "/home/cooneycw/jupyter-workspace\n",
      "/home/cooneycw/jupyter-workspace/Lesson_04/notebooks/utils/bankruptcy_simulation.py\n"
     ]
    }
   ],
   "execution_count": 18
  },
  {
   "metadata": {
    "ExecuteTime": {
     "end_time": "2025-05-03T22:18:25.805418Z",
     "start_time": "2025-05-03T22:18:25.801801Z"
    }
   },
   "cell_type": "code",
   "source": "hello('hello world')",
   "id": "eb4244b92e3c72c6",
   "outputs": [
    {
     "name": "stdout",
     "output_type": "stream",
     "text": [
      "hello world\n"
     ]
    }
   ],
   "execution_count": 19
  }
 ],
 "metadata": {
  "kernelspec": {
   "display_name": "Python 3",
   "language": "python",
   "name": "python3"
  },
  "language_info": {
   "codemirror_mode": {
    "name": "ipython",
    "version": 2
   },
   "file_extension": ".py",
   "mimetype": "text/x-python",
   "name": "python",
   "nbconvert_exporter": "python",
   "pygments_lexer": "ipython2",
   "version": "2.7.6"
  }
 },
 "nbformat": 4,
 "nbformat_minor": 5
}
