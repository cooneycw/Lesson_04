{
 "cells": [
  {
   "metadata": {
    "ExecuteTime": {
     "end_time": "2025-05-03T21:57:09.342033Z",
     "start_time": "2025-05-03T21:57:09.336661Z"
    }
   },
   "cell_type": "code",
   "source": "from utils.bankruptcy_simulation import hello",
   "id": "initial_id",
   "outputs": [
    {
     "ename": "ModuleNotFoundError",
     "evalue": "No module named 'utils'",
     "output_type": "error",
     "traceback": [
      "\u001B[0;31m---------------------------------------------------------------------------\u001B[0m",
      "\u001B[0;31mModuleNotFoundError\u001B[0m                       Traceback (most recent call last)",
      "\u001B[0;32m/tmp/ipykernel_21627/4098973180.py\u001B[0m in \u001B[0;36m<module>\u001B[0;34m\u001B[0m\n\u001B[0;32m----> 1\u001B[0;31m \u001B[0;32mfrom\u001B[0m \u001B[0mutils\u001B[0m\u001B[0;34m.\u001B[0m\u001B[0mbankruptcy_simulation\u001B[0m \u001B[0;32mimport\u001B[0m \u001B[0mhello\u001B[0m\u001B[0;34m\u001B[0m\u001B[0;34m\u001B[0m\u001B[0m\n\u001B[0m",
      "\u001B[0;31mModuleNotFoundError\u001B[0m: No module named 'utils'"
     ]
    }
   ],
   "execution_count": 12
  },
  {
   "metadata": {},
   "cell_type": "code",
   "outputs": [],
   "execution_count": null,
   "source": [
    "import os\n",
    "\n",
    "def find_project_root(start_dir=None, target_dir_name='utils'):\n",
    "    if start_dir is None:\n",
    "        start_dir = os.path.abspath('')\n",
    "\n",
    "    current_dir = start_dir\n",
    "\n",
    "    while current_dir != os.path.dirname(current_dir):  # Stop at root\n",
    "        possible_utils_path = os.path.join(current_dir, target_dir_name)\n",
    "        if os.path.isdir(possible_utils_path):\n",
    "            return current_dir\n",
    "        current_dir = os.path.dirname(current_dir)\n",
    "\n",
    "    return None\n",
    "\n",
    "project_root = find_project_root()\n",
    "if project_root:\n",
    "    print(f\"✅ Project root found: {project_root}\")\n",
    "    print(f\"📁 utils/ directory located at: {os.path.join(project_root, 'utils')}\")\n",
    "else:\n",
    "    print(\"❌ Could not find a 'utils/' directory in any parent folders.\")\n"
   ],
   "id": "49452ea1af870d7b"
  }
 ],
 "metadata": {
  "kernelspec": {
   "display_name": "Python 3",
   "language": "python",
   "name": "python3"
  },
  "language_info": {
   "codemirror_mode": {
    "name": "ipython",
    "version": 2
   },
   "file_extension": ".py",
   "mimetype": "text/x-python",
   "name": "python",
   "nbconvert_exporter": "python",
   "pygments_lexer": "ipython2",
   "version": "2.7.6"
  }
 },
 "nbformat": 4,
 "nbformat_minor": 5
}
