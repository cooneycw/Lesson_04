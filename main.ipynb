{
 "cells": [
  {
   "cell_type": "code",
   "execution_count": 8,
   "id": "3aa880f0f16e11d8",
   "metadata": {
    "jupyter": {
     "is_executing": true
    }
   },
   "outputs": [
    {
     "name": "stdout",
     "output_type": "stream",
     "text": [
      "/home/cooneycw/jupyter-workspace/Lesson_04\n",
      "test complete...\n",
      "/home/cooneycw/jupyter-workspace/Lesson_04/utils/utils.py\n"
     ]
    }
   ],
   "source": [
    "import importlib.machinery\n",
    "import os\n",
    "\n",
    "# Get the current working directory\n",
    "cwd = os.getcwd()\n",
    "print(cwd)\n",
    "# Define the module name and full path\n",
    "\n",
    "module_name = \"utils\"\n",
    "function_name = \"hello\"\n",
    "file_path = os.path.join(cwd, \"Lesson_04\", \"utils\", f\"{module_name}.py\")\n",
    "\n",
    "# Load the module\n",
    "try:\n",
    "    loader = importlib.machinery.SourceFileLoader(module_name, file_path)\n",
    "    module = loader.load_module()\n",
    "    hello = getattr(module, function_name)\n",
    "except:\n",
    "    file_path = os.path.join(cwd, \"utils\", f\"{module_name}.py\")\n",
    "    loader = importlib.machinery.SourceFileLoader(module_name, file_path)\n",
    "    module = loader.load_module()\n",
    "    hello = getattr(module, function_name)\n",
    "\n",
    "hello(\"test complete...\")\n",
    "print(file_path)\n",
    "simulate_bankruptcy = getattr(module, \"simulate_bankruptcy\")\n",
    "create_dashboard = getattr(module, \"create_dashboard\")\n"
   ]
  },
  {
   "cell_type": "code",
   "execution_count": null,
   "id": "873e8f19-2559-41f4-a863-c32ba88b8f86",
   "metadata": {},
   "outputs": [],
   "source": [
    "# Cell 2\n",
    "import os\n",
    "\n",
    "# Get the current working directory\n",
    "cwd = os.getcwd()\n",
    "print(cwd)\n",
    "\n",
    "# Import run_insurance_fundamentals from the utils package\n",
    "from utils import run_insurance_fundamentals\n",
    "\n",
    "# Run the insurance fundamentals demo\n",
    "try:\n",
    "    run_insurance_fundamentals()\n",
    "except Exception as e:\n",
    "    print(f\"Error running insurance fundamentals: {e}\")"
   ]
  }
 ],
 "metadata": {
  "kernelspec": {
   "display_name": "Python 3 (ipykernel)",
   "language": "python",
   "name": "python3"
  },
  "language_info": {
   "codemirror_mode": {
    "name": "ipython",
    "version": 3
   },
   "file_extension": ".py",
   "mimetype": "text/x-python",
   "name": "python",
   "nbconvert_exporter": "python",
   "pygments_lexer": "ipython3",
   "version": "3.13.2"
  }
 },
 "nbformat": 4,
 "nbformat_minor": 5
}
