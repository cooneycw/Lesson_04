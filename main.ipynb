{
 "cells": [
  {
   "metadata": {
    "ExecuteTime": {
     "end_time": "2025-05-03T23:29:00.245858Z",
     "start_time": "2025-05-03T23:29:00.237847Z"
    }
   },
   "cell_type": "code",
   "source": [
    "import importlib.machinery\n",
    "import os\n",
    "\n",
    "# Get the current working directory\n",
    "cwd = os.getcwd()\n",
    "print(cwd)\n",
    "# Define the module name and full path\n",
    "\n",
    "module_name = \"utils\"\n",
    "function_name = \"hello\"\n",
    "file_path = os.path.join(cwd, \"Lesson_04\", \"utils\", f\"{module_name}.py\")\n",
    "\n",
    "# Load the module\n",
    "try:\n",
    "    loader = importlib.machinery.SourceFileLoader(module_name, file_path)\n",
    "    module = loader.load_module()\n",
    "    hello = getattr(module, function_name)\n",
    "except:\n",
    "    file_path = os.path.join(cwd, \"utils\", f\"{module_name}.py\")\n",
    "    loader = importlib.machinery.SourceFileLoader(module_name, file_path)\n",
    "    module = loader.load_module()\n",
    "    hello = getattr(module, function_name)\n",
    "\n",
    "hello(\"test complete...\")\n",
    "print(file_path)\n",
    "simulate_bankruptcy = getattr(module, \"simulate_bankruptcy\")\n",
    "create_dashboard = getattr(module, \"create_dashboard\")\n"
   ],
   "id": "3aa880f0f16e11d8",
   "outputs": [
    {
     "name": "stdout",
     "output_type": "stream",
     "text": [
      "/home/cooneycw/jupyter-workspace\n",
      "test complete...\n",
      "/home/cooneycw/jupyter-workspace/Lesson_04/utils/utils.py\n"
     ]
    }
   ],
   "execution_count": 65
  },
  {
   "metadata": {
    "ExecuteTime": {
     "end_time": "2025-05-03T23:29:00.304790Z",
     "start_time": "2025-05-03T23:29:00.295113Z"
    }
   },
   "cell_type": "code",
   "source": [
    "import numpy as np\n",
    "import matplotlib.pyplot as plt\n",
    "import ipywidgets as widgets\n",
    "from ipywidgets import VBox, HBox, Label, Output\n",
    "from ipywidgets import interact, FloatSlider, IntSlider\n",
    "import pandas as pd\n",
    "\n",
    "\n",
    "# Run a single simulation with default parameters\n",
    "bankruptcy_times = simulate_bankruptcy()\n",
    "print(f\"Average time to bankruptcy: {np.mean(bankruptcy_times):.2f} years\")\n",
    "print(f\"Median time to bankruptcy: {np.median(bankruptcy_times):.2f} years\")\n"
   ],
   "id": "890014699c03b8af",
   "outputs": [
    {
     "name": "stdout",
     "output_type": "stream",
     "text": [
      "Average time to bankruptcy: 5.20 years\n",
      "Median time to bankruptcy: 5.00 years\n"
     ]
    }
   ],
   "execution_count": 66
  },
  {
   "metadata": {
    "ExecuteTime": {
     "end_time": "2025-05-03T23:29:00.624292Z",
     "start_time": "2025-05-03T23:29:00.346263Z"
    }
   },
   "cell_type": "code",
   "source": [
    "# Cell 4: Create the interactive dashboard\n",
    "create_dashboard()"
   ],
   "id": "ad8adae4176e2c22",
   "outputs": [
    {
     "data": {
      "text/plain": [
       "interactive(children=(FloatSlider(value=5.0, continuous_update=False, description='Claims/Year:', max=20.0, mi…"
      ],
      "application/vnd.jupyter.widget-view+json": {
       "version_major": 2,
       "version_minor": 0,
       "model_id": "35a299e6ebf045d7899cf77e1cf030e9"
      }
     },
     "metadata": {},
     "output_type": "display_data"
    }
   ],
   "execution_count": 67
  },
  {
   "metadata": {
    "ExecuteTime": {
     "end_time": "2025-05-03T23:29:00.708818Z",
     "start_time": "2025-05-03T23:29:00.674678Z"
    }
   },
   "cell_type": "code",
   "source": [
    "# Cell 5: Create a custom interactive widget for parameter exploration\n",
    "from ipywidgets import interact_manual, FloatSlider, IntSlider\n",
    "\n",
    "@interact_manual(\n",
    "    initial_capital=IntSlider(min=100000, max=5000000, step=100000, value=1000000, description='Initial $:'),\n",
    "    claim_rate=FloatSlider(min=1, max=20, step=0.5, value=5, description='Claims/Year:'),\n",
    "    avg_claim_size=FloatSlider(min=10000, max=200000, step=5000, value=50000, description='Avg Claim $:'),\n",
    "    investment_return=FloatSlider(min=0.0, max=0.15, step=0.01, value=0.05, description='Return %:'),\n",
    "    num_simulations=IntSlider(min=10, max=1000, step=10, value=100, description='Simulations:')\n",
    ")\n",
    "def run_custom_simulation(initial_capital, claim_rate, avg_claim_size, investment_return, num_simulations):\n",
    "    # Run the simulation with custom parameters\n",
    "    bankruptcy_times = simulate_bankruptcy(\n",
    "        initial_capital=initial_capital,\n",
    "        claim_rate=claim_rate,\n",
    "        avg_claim_size=avg_claim_size,\n",
    "        investment_return=investment_return,\n",
    "        num_simulations=num_simulations\n",
    "    )\n",
    "\n",
    "    # Create visualization\n",
    "    fig, ax = plt.subplots(1, 1, figsize=(10, 6))\n",
    "\n",
    "    # Create histogram with cumulative distribution\n",
    "    n, bins, patches = ax.hist(bankruptcy_times, bins=30, alpha=0.7, edgecolor='black', label='Frequency')\n",
    "    ax2 = ax.twinx()\n",
    "    ax2.hist(bankruptcy_times, bins=30, cumulative=True, histtype='step',\n",
    "             color='red', linewidth=2, label='Cumulative', density=True)\n",
    "\n",
    "    ax.set_xlabel('Years until Bankruptcy')\n",
    "    ax.set_ylabel('Frequency')\n",
    "    ax2.set_ylabel('Cumulative Probability')\n",
    "    ax.set_title(f'Bankruptcy Simulation Results\\n(Mean: {np.mean(bankruptcy_times):.1f} years, Median: {np.median(bankruptcy_times):.1f} years)')\n",
    "\n",
    "    # Add statistics text box\n",
    "    stats_text = f\"\"\"Statistics:\n",
    "Mean: {np.mean(bankruptcy_times):.1f} years\n",
    "Median: {np.median(bankruptcy_times):.1f} years\n",
    "Std Dev: {np.std(bankruptcy_times):.1f} years\n",
    "Min: {np.min(bankruptcy_times):.1f} years\n",
    "Max: {np.max(bankruptcy_times):.1f} years\n",
    "Prob(survive 10y): {(bankruptcy_times > 10).mean():.2%}\"\"\"\n",
    "\n",
    "    ax.text(0.72, 0.98, stats_text, transform=ax.transAxes,\n",
    "            bbox=dict(boxstyle=\"round,pad=0.5\", facecolor=\"wheat\", alpha=0.8),\n",
    "            verticalalignment='top', fontsize=10)\n",
    "\n",
    "    ax.legend(loc='upper left')\n",
    "    ax2.legend(loc='upper center')\n",
    "    ax.grid(True, alpha=0.3)\n",
    "    plt.tight_layout()\n",
    "    plt.show()\n"
   ],
   "id": "762b2051d9d9222c",
   "outputs": [
    {
     "data": {
      "text/plain": [
       "interactive(children=(IntSlider(value=1000000, description='Initial $:', max=5000000, min=100000, step=100000)…"
      ],
      "application/vnd.jupyter.widget-view+json": {
       "version_major": 2,
       "version_minor": 0,
       "model_id": "82e47a3996124817b8e031fdc73560c8"
      }
     },
     "metadata": {},
     "output_type": "display_data"
    }
   ],
   "execution_count": 68
  },
  {
   "metadata": {
    "ExecuteTime": {
     "end_time": "2025-05-03T23:29:00.743537Z",
     "start_time": "2025-05-03T23:29:00.728214Z"
    }
   },
   "cell_type": "code",
   "source": [
    "# Cell 6: Create a parameter sensitivity analysis with dynamic sliders\n",
    "def sensitivity_analysis():\n",
    "    # Create output widget\n",
    "    output = Output()\n",
    "\n",
    "    # Define parameter ranges dictionary\n",
    "    parameter_ranges = {\n",
    "        'claim_rate': {\n",
    "            'min': 1.0,\n",
    "            'max': 20.0,\n",
    "            'step': 0.5,\n",
    "            'default_min': 2.0,\n",
    "            'default_max': 10.0,\n",
    "            'description': 'Claims/Year',\n",
    "            'unit': 'claims/year'\n",
    "        },\n",
    "        'avg_claim_size': {\n",
    "            'min': 10000.0,\n",
    "            'max': 200000.0,\n",
    "            'step': 5000.0,\n",
    "            'default_min': 20000.0,\n",
    "            'default_max': 100000.0,\n",
    "            'description': 'Average Claim Size',\n",
    "            'unit': '$'\n",
    "        },\n",
    "        'investment_return': {\n",
    "            'min': 0.0,\n",
    "            'max': 0.15,\n",
    "            'step': 0.01,\n",
    "            'default_min': 0.02,\n",
    "            'default_max': 0.10,\n",
    "            'description': 'Investment Return',\n",
    "            'unit': '%'\n",
    "        }\n",
    "    }\n",
    "\n",
    "    # Create parameter selection dropdown\n",
    "    parameter_name = widgets.Dropdown(\n",
    "        options=['claim_rate', 'avg_claim_size', 'investment_return'],\n",
    "        value='claim_rate',\n",
    "        description='Parameter:'\n",
    "    )\n",
    "\n",
    "    # We'll create a container for the sliders that we can replace entirely\n",
    "    slider_container = VBox()\n",
    "\n",
    "    # Create run button\n",
    "    run_button = widgets.Button(description='Run Analysis')\n",
    "\n",
    "    # Create number of points slider (this doesn't need to change)\n",
    "    num_points = IntSlider(min=3, max=20, step=1, value=8, description='# Points:')\n",
    "\n",
    "    # Function to create new sliders based on the selected parameter\n",
    "    def create_sliders_for_parameter(param_name):\n",
    "        param_info = parameter_ranges[param_name]\n",
    "\n",
    "        # Create fresh sliders with the correct ranges\n",
    "        min_slider = FloatSlider(\n",
    "            min=param_info['min'],\n",
    "            max=param_info['max'],\n",
    "            step=param_info['step'],\n",
    "            value=param_info['default_min'],\n",
    "            description=f'Min {param_info[\"description\"]}:',\n",
    "            continuous_update=False\n",
    "        )\n",
    "\n",
    "        max_slider = FloatSlider(\n",
    "            min=param_info['min'],\n",
    "            max=param_info['max'],\n",
    "            step=param_info['step'],\n",
    "            value=param_info['default_max'],\n",
    "            description=f'Max {param_info[\"description\"]}:',\n",
    "            continuous_update=False\n",
    "        )\n",
    "\n",
    "        return min_slider, max_slider\n",
    "\n",
    "    # Create initial sliders\n",
    "    min_value, max_value = create_sliders_for_parameter(parameter_name.value)\n",
    "\n",
    "    # Update the slider container\n",
    "    slider_container.children = [\n",
    "        HBox([min_value]),\n",
    "        HBox([max_value])\n",
    "    ]\n",
    "\n",
    "    # Function to handle parameter changes\n",
    "    def on_parameter_change(change):\n",
    "        if change['name'] == 'value':\n",
    "            # Create new sliders for the selected parameter\n",
    "            new_min, new_max = create_sliders_for_parameter(change['new'])\n",
    "\n",
    "            # Replace the old sliders with new ones\n",
    "            slider_container.children = [\n",
    "                HBox([new_min]),\n",
    "                HBox([new_max])\n",
    "            ]\n",
    "\n",
    "            # Update our references\n",
    "            nonlocal min_value, max_value\n",
    "            min_value = new_min\n",
    "            max_value = new_max\n",
    "\n",
    "    # Set up observer for parameter dropdown\n",
    "    parameter_name.observe(on_parameter_change, names='value')\n",
    "\n",
    "    def run_sensitivity_analysis(button):\n",
    "        parameter = parameter_name.value\n",
    "        min_val = min_value.value\n",
    "        max_val = max_value.value\n",
    "        n_points = num_points.value\n",
    "\n",
    "        with output:\n",
    "            output.clear_output()\n",
    "\n",
    "            # Validation\n",
    "            if min_val >= max_val:\n",
    "                print(\"Error: Minimum value must be less than maximum value!\")\n",
    "                return\n",
    "\n",
    "            print(f\"Running sensitivity analysis for: {parameter}\")\n",
    "            print(f\"Range: {min_val:,.2f} to {max_val:,.2f}\")\n",
    "            print(f\"Testing {n_points} values...\")\n",
    "            print(\"-\" * 50)\n",
    "\n",
    "            # Generate parameter values\n",
    "            param_values = np.linspace(min_val, max_val, n_points)\n",
    "            results = []\n",
    "\n",
    "            # Base parameters\n",
    "            base_params = {\n",
    "                'claim_rate': 5,\n",
    "                'avg_claim_size': 50000,\n",
    "                'investment_return': 0.05,\n",
    "                'num_simulations': 100\n",
    "            }\n",
    "\n",
    "            # Run simulations for each parameter value\n",
    "            for i, value in enumerate(param_values):\n",
    "                print(f\"Progress: {i+1}/{n_points} simulations... ({value:,.2f})\", end='\\r')\n",
    "                params = base_params.copy()\n",
    "                params[parameter] = value\n",
    "\n",
    "                bankruptcy_times = simulate_bankruptcy(**params)\n",
    "                results.append({\n",
    "                    'value': value,\n",
    "                    'mean_bankruptcy_time': np.mean(bankruptcy_times),\n",
    "                    'median_bankruptcy_time': np.median(bankruptcy_times),\n",
    "                    'std_bankruptcy_time': np.std(bankruptcy_times)\n",
    "                })\n",
    "\n",
    "            print(f\"Progress: Complete! All {n_points} simulations finished.    \")\n",
    "            print(\"-\" * 50)\n",
    "\n",
    "            df_results = pd.DataFrame(results)\n",
    "\n",
    "            # Plot results\n",
    "            fig, ax = plt.subplots(1, 1, figsize=(10, 6))\n",
    "\n",
    "            # Adjust plotting based on parameter type\n",
    "            if parameter == 'investment_return':\n",
    "                x_values = df_results['value'] * 100  # Convert to percentage\n",
    "                ax.errorbar(x_values, df_results['mean_bankruptcy_time'],\n",
    "                           yerr=df_results['std_bankruptcy_time'], fmt='o-', capsize=5,\n",
    "                           label='Mean ± Std Dev', markersize=8)\n",
    "                ax.plot(x_values, df_results['median_bankruptcy_time'],\n",
    "                       's--', label='Median', markersize=8)\n",
    "                ax.set_xlabel(f'{parameter_ranges[parameter][\"description\"]} (%)')\n",
    "            else:\n",
    "                ax.errorbar(df_results['value'], df_results['mean_bankruptcy_time'],\n",
    "                           yerr=df_results['std_bankruptcy_time'], fmt='o-', capsize=5,\n",
    "                           label='Mean ± Std Dev', markersize=8)\n",
    "                ax.plot(df_results['value'], df_results['median_bankruptcy_time'],\n",
    "                       's--', label='Median', markersize=8)\n",
    "\n",
    "                if parameter == 'avg_claim_size':\n",
    "                    ax.set_xlabel(f'{parameter_ranges[parameter][\"description\"]} ($)')\n",
    "                    ax.xaxis.set_major_formatter(plt.FuncFormatter(lambda x, p: f'${x:,.0f}'))\n",
    "                else:\n",
    "                    ax.set_xlabel(f'{parameter_ranges[parameter][\"description\"]}')\n",
    "\n",
    "            ax.set_ylabel('Years until Bankruptcy')\n",
    "            ax.set_title(f'Sensitivity Analysis: {parameter_ranges[parameter][\"description\"]}')\n",
    "            ax.legend()\n",
    "            ax.grid(True, alpha=0.3)\n",
    "\n",
    "            plt.tight_layout()\n",
    "            plt.show()\n",
    "\n",
    "            # Create a formatted data table\n",
    "            df_display = df_results.copy()\n",
    "\n",
    "            if parameter == 'investment_return':\n",
    "                df_display['value'] = df_display['value'] * 100  # Convert to percentage\n",
    "                df_display = df_display.round(2)\n",
    "                df_display = df_display.rename(columns={'value': 'Return (%)'})\n",
    "            elif parameter == 'avg_claim_size':\n",
    "                df_display['value'] = df_display['value'].apply(lambda x: f'${x:,.0f}')\n",
    "                df_display = df_display.rename(columns={'value': 'Claim Size'})\n",
    "            else:\n",
    "                df_display = df_display.round(2)\n",
    "                df_display = df_display.rename(columns={'value': 'Claims/Year'})\n",
    "\n",
    "            # Round other columns for display\n",
    "            for col in ['mean_bankruptcy_time', 'median_bankruptcy_time', 'std_bankruptcy_time']:\n",
    "                df_display[col] = df_display[col].round(2)\n",
    "\n",
    "            print(\"\\nSensitivity Analysis Results:\")\n",
    "            display(df_display)\n",
    "\n",
    "    # Connect button to function\n",
    "    run_button.on_click(run_sensitivity_analysis)\n",
    "\n",
    "    # Create layout\n",
    "    controls = VBox([\n",
    "        HBox([parameter_name]),\n",
    "        slider_container,  # This contains our dynamic sliders\n",
    "        HBox([num_points]),\n",
    "        run_button\n",
    "    ])\n",
    "\n",
    "    # Display interface\n",
    "    display(controls)\n",
    "    display(output)"
   ],
   "id": "c7332913b13c80e2",
   "outputs": [],
   "execution_count": 69
  },
  {
   "metadata": {
    "ExecuteTime": {
     "end_time": "2025-05-03T23:29:00.809609Z",
     "start_time": "2025-05-03T23:29:00.774479Z"
    }
   },
   "cell_type": "code",
   "source": [
    "# Run the sensitivity analysis\n",
    "sensitivity_analysis()"
   ],
   "id": "95af7632d5a79a98",
   "outputs": [
    {
     "data": {
      "text/plain": [
       "VBox(children=(HBox(children=(Dropdown(description='Parameter:', options=('claim_rate', 'avg_claim_size', 'inv…"
      ],
      "application/vnd.jupyter.widget-view+json": {
       "version_major": 2,
       "version_minor": 0,
       "model_id": "c9cbef61a64d4cd198f1840b45fac8b7"
      }
     },
     "metadata": {},
     "output_type": "display_data"
    },
    {
     "data": {
      "text/plain": [
       "Output()"
      ],
      "application/vnd.jupyter.widget-view+json": {
       "version_major": 2,
       "version_minor": 0,
       "model_id": "4e8ab075552843a1951ec9b75e3c6a52"
      }
     },
     "metadata": {},
     "output_type": "display_data"
    }
   ],
   "execution_count": 70
  },
  {
   "metadata": {
    "ExecuteTime": {
     "end_time": "2025-05-03T23:29:00.829715Z",
     "start_time": "2025-05-03T23:29:00.828048Z"
    }
   },
   "cell_type": "code",
   "source": "",
   "id": "7f6003b2c321ab1",
   "outputs": [],
   "execution_count": null
  }
 ],
 "metadata": {
  "kernelspec": {
   "display_name": "Python 3",
   "language": "python",
   "name": "python3"
  },
  "language_info": {
   "codemirror_mode": {
    "name": "ipython",
    "version": 2
   },
   "file_extension": ".py",
   "mimetype": "text/x-python",
   "name": "python",
   "nbconvert_exporter": "python",
   "pygments_lexer": "ipython2",
   "version": "2.7.6"
  }
 },
 "nbformat": 4,
 "nbformat_minor": 5
}
