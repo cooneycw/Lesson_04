{
 "cells": [
  {
   "metadata": {
    "ExecuteTime": {
     "end_time": "2025-05-03T22:24:19.739524Z",
     "start_time": "2025-05-03T22:24:19.734714Z"
    }
   },
   "cell_type": "code",
   "source": [
    "import importlib.machinery\n",
    "import os\n",
    "\n",
    "# Get the current working directory\n",
    "cwd = os.getcwd()\n",
    "print(cwd)\n",
    "# Define the module name and full path\n",
    "\n",
    "module_name = \"utils\"\n",
    "function_name = [\"hello\"]\n",
    "file_path = os.path.join(cwd, \"Lesson_04\",\"notebooks\",\"utils\", f\"{module_name}.py\")\n",
    "\n",
    "# Load the module\n",
    "try:\n",
    "    loader = importlib.machinery.SourceFileLoader(module_name, file_path)\n",
    "    module = loader.load_module()\n",
    "    hello = getattr(module, function_name)\n",
    "except:\n",
    "    file_path = os.path.join(cwd, \"utils\", f\"{module_name}.py\")\n",
    "    loader = importlib.machinery.SourceFileLoader(module_name, file_path)\n",
    "    module = loader.load_module()\n",
    "    hello = getattr(module, function_name)\n",
    "\n",
    "print(file_path)"
   ],
   "id": "3aa880f0f16e11d8",
   "outputs": [
    {
     "name": "stdout",
     "output_type": "stream",
     "text": [
      "/home/cooneycw/jupyter-workspace\n",
      "/home/cooneycw/jupyter-workspace/Lesson_04/notebooks/utils/bankruptcy_simulation.py\n"
     ]
    }
   ],
   "execution_count": 20
  },
  {
   "metadata": {
    "ExecuteTime": {
     "end_time": "2025-05-03T22:24:23.082156Z",
     "start_time": "2025-05-03T22:24:23.078784Z"
    }
   },
   "cell_type": "code",
   "source": "hello('hello world')",
   "id": "eb4244b92e3c72c6",
   "outputs": [
    {
     "name": "stdout",
     "output_type": "stream",
     "text": [
      "hello world\n"
     ]
    }
   ],
   "execution_count": 21
  }
 ],
 "metadata": {
  "kernelspec": {
   "display_name": "Python 3",
   "language": "python",
   "name": "python3"
  },
  "language_info": {
   "codemirror_mode": {
    "name": "ipython",
    "version": 2
   },
   "file_extension": ".py",
   "mimetype": "text/x-python",
   "name": "python",
   "nbconvert_exporter": "python",
   "pygments_lexer": "ipython2",
   "version": "2.7.6"
  }
 },
 "nbformat": 4,
 "nbformat_minor": 5
}
