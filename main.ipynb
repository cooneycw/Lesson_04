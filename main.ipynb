{
 "cells": [
  {
   "metadata": {
    "ExecuteTime": {
     "end_time": "2025-05-03T23:29:00.245858Z",
     "start_time": "2025-05-03T23:29:00.237847Z"
    }
   },
   "cell_type": "code",
   "source": [
    "import importlib.machinery\n",
    "import os\n",
    "\n",
    "# Get the current working directory\n",
    "cwd = os.getcwd()\n",
    "print(cwd)\n",
    "# Define the module name and full path\n",
    "\n",
    "module_name = \"utils\"\n",
    "function_name = \"hello\"\n",
    "file_path = os.path.join(cwd, \"Lesson_04\", \"utils\", f\"{module_name}.py\")\n",
    "\n",
    "# Load the module\n",
    "try:\n",
    "    loader = importlib.machinery.SourceFileLoader(module_name, file_path)\n",
    "    module = loader.load_module()\n",
    "    hello = getattr(module, function_name)\n",
    "except:\n",
    "    file_path = os.path.join(cwd, \"utils\", f\"{module_name}.py\")\n",
    "    loader = importlib.machinery.SourceFileLoader(module_name, file_path)\n",
    "    module = loader.load_module()\n",
    "    hello = getattr(module, function_name)\n",
    "\n",
    "hello(\"test complete...\")\n",
    "print(file_path)\n",
    "simulate_bankruptcy = getattr(module, \"simulate_bankruptcy\")\n",
    "create_dashboard = getattr(module, \"create_dashboard\")\n"
   ],
   "id": "3aa880f0f16e11d8",
   "outputs": [
    {
     "name": "stdout",
     "output_type": "stream",
     "text": [
      "/home/cooneycw/jupyter-workspace\n",
      "test complete...\n",
      "/home/cooneycw/jupyter-workspace/Lesson_04/utils/utils.py\n"
     ]
    }
   ],
   "execution_count": 65
  },
  {
   "metadata": {
    "ExecuteTime": {
     "end_time": "2025-05-03T23:29:00.829715Z",
     "start_time": "2025-05-03T23:29:00.828048Z"
    }
   },
   "cell_type": "code",
   "source": [
    "import os\n",
    "\n",
    "# Create directories if they don't exist\n",
    "if not os.path.exists('utils'):\n",
    "    os.makedirs('utils')\n",
    "\n",
    "# Define file contents\n",
    "modules = {\n",
    "    'utils/law_of_large_numbers.py': \"\"\"\n",
    "# law_of_large_numbers.py module contents here\n",
    "\"\"\",\n",
    "    'utils/risk_pooling.py': \"\"\"\n",
    "# risk_pooling.py module contents here\n",
    "\"\"\",\n",
    "    'utils/balance_sheet.py': \"\"\"\n",
    "# balance_sheet.py module contents here\n",
    "\"\"\",\n",
    "    'utils/premium_calculation.py': \"\"\"\n",
    "# premium_calculation.py module contents here\n",
    "\"\"\",\n",
    "    'utils/capital_role.py': \"\"\"\n",
    "# capital_role.py module contents here\n",
    "\"\"\",\n",
    "    'utils/insurance_fundamentals.py': \"\"\"\n",
    "# insurance_fundamentals.py module contents here\n",
    "\"\"\"\n",
    "}\n",
    "\n",
    "# Write each module to file\n",
    "for file_path, content in modules.items():\n",
    "    with open(file_path, 'w') as f:\n",
    "        f.write(content)\n",
    "\n",
    "print(\"Module files created successfully\")"
   ],
   "id": "7f6003b2c321ab1",
   "outputs": [],
   "execution_count": null
  }
 ],
 "metadata": {
  "kernelspec": {
   "display_name": "Python 3",
   "language": "python",
   "name": "python3"
  },
  "language_info": {
   "codemirror_mode": {
    "name": "ipython",
    "version": 2
   },
   "file_extension": ".py",
   "mimetype": "text/x-python",
   "name": "python",
   "nbconvert_exporter": "python",
   "pygments_lexer": "ipython2",
   "version": "2.7.6"
  }
 },
 "nbformat": 4,
 "nbformat_minor": 5
}
